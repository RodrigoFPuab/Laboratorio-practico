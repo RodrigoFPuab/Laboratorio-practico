#!/usr/bin/env python
# coding: utf-8

# # Data Science Tools and Ecosystem

# This notebook will summarize the data science tools and ecosystem.

# **Objectives**
# - Listed programming languages used for data science.
# - Some of the libraries used in data science are listed.
# - Executions of arithmetic expressions are carried out.

# Programming languages are used by data scientists, some of these are:
# 
# 1. Python
# 2. R
# 3. Julia
# 4. Java
# 5. SQL
# 6. Matlab
# 7. Scala

# Some of the commonly used libraries used by Data Scientists include:
# 
# 1. NumPy
# 2. Pandas
# 3. Matplotlib
# 4. Seaborn
# 5. NLTK

# | Data Science Tools |
# |:------------------:|
# |  Jupyter Notebook  |
# |     RStudio        |
# |   Apache Zeppelin  |
# |     VS Code        |

# Below are a few examples of evaluating arithmetic expressions in Python:
# 
# sum operator example 3+5
# subtraction operator example 5-4
# multiplier operator example 3*5

# In[4]:


(3*4)+5
# This a simple arithmetic expression to mutiply then add integers.


# In[3]:


200/60
#This will convert 200 minutes to hours by diving by 60.


# ## Author
# 
# ## Rodrigo Fredes Peña

# In[ ]:




