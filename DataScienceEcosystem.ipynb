{
 "cells": [
  {
   "cell_type": "markdown",
   "id": "a79702c1",
   "metadata": {},
   "source": [
    "# Data Science Tools and Ecosystem"
   ]
  },
  {
   "cell_type": "markdown",
   "id": "910b10d8",
   "metadata": {},
   "source": [
    "This notebook will summarize the data science tools and ecosystem."
   ]
  },
  {
   "cell_type": "markdown",
   "id": "9ec5dee6",
   "metadata": {},
   "source": [
    "**Objectives**\n",
    "- Listed programming languages used for data science.\n",
    "- Some of the libraries used in data science are listed.\n",
    "- Executions of arithmetic expressions are carried out."
   ]
  },
  {
   "cell_type": "markdown",
   "id": "0c75c223",
   "metadata": {},
   "source": [
    "Programming languages are used by data scientists, some of these are:\n",
    "\n",
    "1.Python\n",
    "2.R\n",
    "3.Julia\n",
    "4.Java\n",
    "5.SQL"
   ]
  },
  {
   "cell_type": "markdown",
   "id": "65f5706c",
   "metadata": {},
   "source": [
    "Some of the commonly used libraries used by Data Scientists include:\n",
    "\n",
    "1.NumPy\n",
    "2.Pandas\n",
    "3.Matplotlib\n",
    "4.Seaborn"
   ]
  },
  {
   "cell_type": "markdown",
   "id": "ce156484",
   "metadata": {},
   "source": [
    "| Data Science Tools |\n",
    "|:------------------:|\n",
    "|     Anaconda       |\n",
    "|     MongoDB        |\n",
    "|   Apache Hadoop    |"
   ]
  },
  {
   "cell_type": "markdown",
   "id": "31e1009d",
   "metadata": {},
   "source": [
    "Below are a few examples of evaluating arithmetic expressions in Python:\n",
    "\n",
    "sum operator example 3+5\n",
    "subtraction operator example 5-4\n",
    "multiplier operator example 3*5"
   ]
  },
  {
   "cell_type": "code",
   "execution_count": 2,
   "id": "0f562131",
   "metadata": {},
   "outputs": [
    {
     "data": {
      "text/plain": [
       "17"
      ]
     },
     "execution_count": 2,
     "metadata": {},
     "output_type": "execute_result"
    }
   ],
   "source": [
    "(3*4)+5\n",
    "# This a simple arithmetic expression to mutiply then add integers."
   ]
  },
  {
   "cell_type": "code",
   "execution_count": 3,
   "id": "40216b54",
   "metadata": {},
   "outputs": [
    {
     "data": {
      "text/plain": [
       "3.3333333333333335"
      ]
     },
     "execution_count": 3,
     "metadata": {},
     "output_type": "execute_result"
    }
   ],
   "source": [
    "200/60\n",
    "#This will convert 200 minutes to hours by diving by 60."
   ]
  },
  {
   "cell_type": "markdown",
   "id": "061080a2",
   "metadata": {},
   "source": [
    "## Author\n",
    "\n",
    "## Rodrigo Fredes Peña"
   ]
  }
 ],
 "metadata": {
  "kernelspec": {
   "display_name": "Python 3 (ipykernel)",
   "language": "python",
   "name": "python3"
  },
  "language_info": {
   "codemirror_mode": {
    "name": "ipython",
    "version": 3
   },
   "file_extension": ".py",
   "mimetype": "text/x-python",
   "name": "python",
   "nbconvert_exporter": "python",
   "pygments_lexer": "ipython3",
   "version": "3.11.4"
  }
 },
 "nbformat": 4,
 "nbformat_minor": 5
}
